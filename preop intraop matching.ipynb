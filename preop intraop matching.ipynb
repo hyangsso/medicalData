{
 "cells": [
  {
   "cell_type": "markdown",
   "metadata": {},
   "source": [
    "### file load "
   ]
  },
  {
   "cell_type": "code",
   "execution_count": 179,
   "metadata": {},
   "outputs": [],
   "source": [
    "import pandas as pd\n",
    "import numpy as np\n",
    "import pymysql\n",
    "\n",
    "# hid into load\n",
    "path = 'VitalDB_SpHb_20211028.xlsx'\n",
    "dfmain = pd.read_excel(path, sheet_name=0)\n",
    "dfped = pd.read_excel(path, sheet_name=1)\n",
    "df = dfmain.append(dfped, ignore_index=True)\n",
    "\n",
    "# db connect\n",
    "db = pymysql.connect(host='', port=, user='', passwd='', db='', charset='')"
   ]
  },
  {
   "cell_type": "markdown",
   "metadata": {},
   "source": [
    "parid 목록 <br>\n",
    "parid : 299 <br>\n",
    "\n",
    "hb_abga : 472, 26339 <br>\n",
    "hct_abga : 350, 26329"
   ]
  },
  {
   "cell_type": "code",
   "execution_count": 181,
   "metadata": {
    "scrolled": true
   },
   "outputs": [],
   "source": [
    "dfresult = pd.DataFrame(columns=list(dfmain.columns)+['Preop_T.bil','Time','Intraop_T.bil','POC_Hgb','POC_Hct'])\n",
    "new_idx = 0\n",
    "for idx, row in df.iterrows():\n",
    "    hid = row['환자번호']\n",
    "    orin = row['입실시간']\n",
    "    orout = row['퇴실시간']\n",
    "    \n",
    "    # 6개월 이전의 preop lab 추출\n",
    "    cur = db.cursor()\n",
    "    sql = 'SELECT val FROM labs WHERE hid={} and parid = 299 and (dt BETWEEN \"{}\" - INTERVAL 6 MONTH AND \"{}\") ORDER BY dt DESC LIMIT 1'.format(hid,orin,orin)\n",
    "    cur.execute(sql)\n",
    "    if cur.rowcount == 1 :\n",
    "        data = cur.fetchone()[0]\n",
    "        df.loc[df.index==idx, 'Preop_T.bil'] = data\n",
    "    \n",
    "    # 수술 중 intraop lab 추출\n",
    "    cur = db.cursor()\n",
    "    sql = 'SELECT hid,parid,dt,val FROM labs WHERE hid={} and \"{}\" <= dt and dt <= \"{}\" and parid IN (299,350,472,26329,26339)'.format(hid, orin, orout)\n",
    "    cur.execute(sql)\n",
    "    vals = cur.fetchall()\n",
    "    \n",
    "    # intraop 없을 경우 기존행만 추가\n",
    "    if len(vals) == 0 :\n",
    "        dfresult = dfresult.append(df.iloc[idx],ignore_index=True)\n",
    "    \n",
    "    # intraop만큼 돌면서 해당 intraop의 시간 및 결과값 추가\n",
    "    for data in range(len(vals)) :\n",
    "        dfresult = dfresult.append(df.iloc[idx],ignore_index=True)\n",
    "\n",
    "        labid = vals[data][1]\n",
    "        time = vals[data][2]\n",
    "        val = vals[data][3]\n",
    "        # intraop T.bil\n",
    "        if labid == 299 :\n",
    "            dfresult.loc[dfresult.index==new_idx,'Time']=time\n",
    "            dfresult.loc[dfresult.index==new_idx,'Intraop_T.bil']=val\n",
    "        # intraop hb\n",
    "        elif labid in [472,26339] :\n",
    "            dfresult.loc[dfresult.index==new_idx,'Time']=time\n",
    "            dfresult.loc[dfresult.index==new_idx,'POC_Hgb']=val\n",
    "        # intraop hct\n",
    "        elif labid in [350,26329] :\n",
    "            dfresult.loc[dfresult.index==new_idx,'Time']=time\n",
    "            dfresult.loc[dfresult.index==new_idx,'POC_Hct']=val\n",
    "            \n",
    "        new_idx += 1"
   ]
  },
  {
   "cell_type": "markdown",
   "metadata": {},
   "source": [
    "### 시간이 동일할 경우 merge"
   ]
  },
  {
   "cell_type": "code",
   "execution_count": 156,
   "metadata": {},
   "outputs": [],
   "source": [
    "col_list=['Intraop_T.bil','POC_Hgb','POC_Hct']\n",
    "\n",
    "dfresult.fillna('', inplace=True)\n",
    "dfresult = dfresult.astype('str')\n",
    "new_dfresult = dfresult.groupby([i for i in list(set(dfresult.columns)) if i not in col_list], as_index=False)[col_list].sum()\n",
    "new_dfresult = new_dfresult[list(dfresult.columns)]"
   ]
  }
 ],
 "metadata": {
  "kernelspec": {
   "display_name": "Python 3.9.2 64-bit",
   "language": "python",
   "name": "python3"
  },
  "language_info": {
   "codemirror_mode": {
    "name": "ipython",
    "version": 3
   },
   "file_extension": ".py",
   "mimetype": "text/x-python",
   "name": "python",
   "nbconvert_exporter": "python",
   "pygments_lexer": "ipython3",
   "version": "3.9.2"
  },
  "vscode": {
   "interpreter": {
    "hash": "9d5f9f5a852b32a9769b65d2d766c0a72d2ebc9336d3b0d7570c3d2576da405f"
   }
  }
 },
 "nbformat": 4,
 "nbformat_minor": 4
}
